{
 "cells": [
  {
   "cell_type": "markdown",
   "id": "b9ea6168-9e84-4f1e-932f-76072023bf56",
   "metadata": {},
   "source": [
    "# Breast Fibroglandular Density Regression"
   ]
  },
  {
   "cell_type": "code",
   "execution_count": null,
   "id": "fe6c1f92-6682-4d44-8a66-80b55cbb65f5",
   "metadata": {},
   "outputs": [],
   "source": []
  }
 ],
 "metadata": {
  "kernelspec": {
   "display_name": "Python 3 (ipykernel)",
   "language": "python",
   "name": "python3"
  },
  "language_info": {
   "codemirror_mode": {
    "name": "ipython",
    "version": 3
   },
   "file_extension": ".py",
   "mimetype": "text/x-python",
   "name": "python",
   "nbconvert_exporter": "python",
   "pygments_lexer": "ipython3",
   "version": "3.7.11"
  }
 },
 "nbformat": 4,
 "nbformat_minor": 5
}
