{
 "cells": [
  {
   "cell_type": "markdown",
   "id": "d21434ed-f58e-4b98-9f22-86435e224ad8",
   "metadata": {},
   "source": [
    "# COVID Lung Severity Score"
   ]
  },
  {
   "cell_type": "code",
   "execution_count": null,
   "id": "8ae16161-6109-4b66-b567-2a18e41f1a06",
   "metadata": {},
   "outputs": [],
   "source": []
  }
 ],
 "metadata": {
  "kernelspec": {
   "display_name": "Python 3 (ipykernel)",
   "language": "python",
   "name": "python3"
  },
  "language_info": {
   "codemirror_mode": {
    "name": "ipython",
    "version": 3
   },
   "file_extension": ".py",
   "mimetype": "text/x-python",
   "name": "python",
   "nbconvert_exporter": "python",
   "pygments_lexer": "ipython3",
   "version": "3.7.11"
  }
 },
 "nbformat": 4,
 "nbformat_minor": 5
}
