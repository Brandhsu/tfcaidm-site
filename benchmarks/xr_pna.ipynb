{
 "cells": [
  {
   "cell_type": "markdown",
   "id": "966af4d8-0255-4e96-b7d0-62d55ce457f4",
   "metadata": {},
   "source": [
    "# Chest X-Ray Pneumonia Segmentation"
   ]
  },
  {
   "cell_type": "code",
   "execution_count": null,
   "id": "526d2e82-7e7c-4660-9d40-d37bae85ce3d",
   "metadata": {},
   "outputs": [],
   "source": []
  }
 ],
 "metadata": {
  "kernelspec": {
   "display_name": "Python 3 (ipykernel)",
   "language": "python",
   "name": "python3"
  },
  "language_info": {
   "codemirror_mode": {
    "name": "ipython",
    "version": 3
   },
   "file_extension": ".py",
   "mimetype": "text/x-python",
   "name": "python",
   "nbconvert_exporter": "python",
   "pygments_lexer": "ipython3",
   "version": "3.7.11"
  }
 },
 "nbformat": 4,
 "nbformat_minor": 5
}
