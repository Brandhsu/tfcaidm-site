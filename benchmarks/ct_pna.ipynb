{
 "cells": [
  {
   "cell_type": "markdown",
   "id": "72bf4052-96c4-40b0-9686-0f2b14232d21",
   "metadata": {},
   "source": [
    "# CT Pneumonia Segmentation"
   ]
  },
  {
   "cell_type": "code",
   "execution_count": null,
   "id": "045950c5-ff85-42bc-ae42-bee8371a7294",
   "metadata": {},
   "outputs": [],
   "source": []
  }
 ],
 "metadata": {
  "kernelspec": {
   "display_name": "Python 3 (ipykernel)",
   "language": "python",
   "name": "python3"
  },
  "language_info": {
   "codemirror_mode": {
    "name": "ipython",
    "version": 3
   },
   "file_extension": ".py",
   "mimetype": "text/x-python",
   "name": "python",
   "nbconvert_exporter": "python",
   "pygments_lexer": "ipython3",
   "version": "3.7.11"
  }
 },
 "nbformat": 4,
 "nbformat_minor": 5
}
