{
 "cells": [
  {
   "cell_type": "markdown",
   "id": "7d191f89-ceca-47aa-a5ce-b4b624fbe3d7",
   "metadata": {},
   "source": [
    "# Brain Dementia Classification"
   ]
  },
  {
   "cell_type": "code",
   "execution_count": 2,
   "id": "552698a7-dd70-46fd-89e3-9eb21c99a4c7",
   "metadata": {},
   "outputs": [],
   "source": [
    "import numpy as np\n",
    "import tensorflow as tf\n",
    "\n",
    "from jarvis.train.client import Client\n",
    "from tfcaidm import Benchmark"
   ]
  },
  {
   "cell_type": "code",
   "execution_count": null,
   "id": "3d53174b-30e9-4384-8b14-fa3560607970",
   "metadata": {},
   "outputs": [],
   "source": [
    "Benchmark.help()"
   ]
  },
  {
   "cell_type": "code",
   "execution_count": null,
   "id": "40717979-f01c-4a3f-9cc9-013e6cbf9ea2",
   "metadata": {},
   "outputs": [],
   "source": [
    "Benchmark.leaderboard()"
   ]
  }
 ],
 "metadata": {
  "kernelspec": {
   "display_name": "Python 3 (ipykernel)",
   "language": "python",
   "name": "python3"
  },
  "language_info": {
   "codemirror_mode": {
    "name": "ipython",
    "version": 3
   },
   "file_extension": ".py",
   "mimetype": "text/x-python",
   "name": "python",
   "nbconvert_exporter": "python",
   "pygments_lexer": "ipython3",
   "version": "3.7.11"
  }
 },
 "nbformat": 4,
 "nbformat_minor": 5
}
